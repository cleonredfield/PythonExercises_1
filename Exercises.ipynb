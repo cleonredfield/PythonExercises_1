{
  "nbformat": 4,
  "nbformat_minor": 0,
  "metadata": {
    "colab": {
      "provenance": [],
      "authorship_tag": "ABX9TyMe0NBj5YHJxQFLEsqjfQmK",
      "include_colab_link": true
    },
    "kernelspec": {
      "name": "python3",
      "display_name": "Python 3"
    },
    "language_info": {
      "name": "python"
    }
  },
  "cells": [
    {
      "cell_type": "markdown",
      "metadata": {
        "id": "view-in-github",
        "colab_type": "text"
      },
      "source": [
        "<a href=\"https://colab.research.google.com/github/cleonredfield/PythonExercises_1/blob/main/Exercises.ipynb\" target=\"_parent\"><img src=\"https://colab.research.google.com/assets/colab-badge.svg\" alt=\"Open In Colab\"/></a>"
      ]
    },
    {
      "cell_type": "code",
      "execution_count": null,
      "metadata": {
        "id": "K8Ip3sXt8KWO"
      },
      "outputs": [],
      "source": [
        "IA Name: Jose Eduardo Martínez Rodríguez ID: 1843263 Tuesday"
      ]
    },
    {
      "cell_type": "markdown",
      "source": [],
      "metadata": {
        "id": "jMD4UAh09qkk"
      }
    },
    {
      "cell_type": "code",
      "source": [
        "# Artificial Intelligence - A2\n",
        "# Hangman Game\n",
        "\n",
        "# Name: José Eduardo Matínez Rodríguez\n",
        "# Student ID: 1843263\n",
        "# Class day: tuesday\n",
        "# Hour: N4 - N6\n",
        "\n",
        "import random\n",
        "\n",
        "# List of words for the game\n",
        "word_list = [\"random\", \"happy\", \"red\", \"phone\", \"sky\", \"icecream\", \"pye\", \"rain\"]\n",
        "\n",
        "def select_random_word():\n",
        "    # Select a random word from the list\n",
        "    return random.choice(word_list)\n",
        "\n",
        "def display_word(word, guessed_letters):\n",
        "    # Display the word with guessed letters and underscores\n",
        "    display = \"\"\n",
        "    for letter in word:\n",
        "        if letter in guessed_letters:\n",
        "            display += letter\n",
        "        else:\n",
        "            display += \"_\"\n",
        "    return display\n",
        "\n",
        "def hangman():\n",
        "    word_to_guess = select_random_word()\n",
        "    guessed_letters = []\n",
        "    max_attempts = 5\n",
        "\n",
        "    print(\"Hangman Game (X_X)\")\n",
        "    while max_attempts > 0:\n",
        "        print(\"\\nWord to guess:\", display_word(word_to_guess, guessed_letters))\n",
        "        print(\"Guessed letters:\", \" \".join(guessed_letters))\n",
        "        guess = input(\"Guess a letter: \").lower()\n",
        "\n",
        "        if len(guess) != 1 or not guess.isalpha():\n",
        "            print(\"Please enter a single letter.\")\n",
        "            continue\n",
        "\n",
        "        if guess in guessed_letters:\n",
        "            print(\"You've already guessed that letter.\")\n",
        "            continue\n",
        "\n",
        "        guessed_letters.append(guess)\n",
        "\n",
        "        if guess in word_to_guess:\n",
        "            print(\"Good guess!\")\n",
        "        else:\n",
        "            max_attempts -= 1\n",
        "            print(f\"Wrong guess! You have {max_attempts} attempts left.\")\n",
        "\n",
        "        if \"_\" not in display_word(word_to_guess, guessed_letters):\n",
        "            print(\"\\nCongratulations! You've guessed the word:\", word_to_guess)\n",
        "            break\n",
        "\n",
        "    if max_attempts == 0:\n",
        "        print(\"\\nGame over! The word was:\", word_to_guess)\n",
        "\n",
        "if __name__ == \"__main__\":\n",
        "    hangman()"
      ],
      "metadata": {
        "colab": {
          "base_uri": "https://localhost:8080/"
        },
        "id": "AKIThukQ9210",
        "outputId": "9b500675-f1aa-4fd2-aa5d-572f86d0c2b1"
      },
      "execution_count": 1,
      "outputs": [
        {
          "output_type": "stream",
          "name": "stdout",
          "text": [
            "Hangman Game (X_X)\n",
            "\n",
            "Word to guess: ___\n",
            "Guessed letters: \n",
            "Guess a letter: r\n",
            "Wrong guess! You have 4 attempts left.\n",
            "\n",
            "Word to guess: ___\n",
            "Guessed letters: r\n",
            "Guess a letter: p\n",
            "Good guess!\n",
            "\n",
            "Word to guess: p__\n",
            "Guessed letters: r p\n",
            "Guess a letter: y\n",
            "Good guess!\n",
            "\n",
            "Word to guess: py_\n",
            "Guessed letters: r p y\n",
            "Guess a letter: e\n",
            "Good guess!\n",
            "\n",
            "Congratulations! You've guessed the word: pye\n"
          ]
        }
      ]
    },
    {
      "cell_type": "code",
      "source": [
        "# Artificial Intelligence - A2\n",
        "# Number Guessing Game\n",
        "\n",
        "# Name: José Eduardo Matínez Rodríguez\n",
        "# Student ID: 1843263\n",
        "# Class day: tuesday\n",
        "# Hour: N4 - N6\n",
        "\n",
        "import random\n",
        "\n",
        "def guess_the_number():\n",
        "    # Generate a random number between 1 and 100\n",
        "    target_number = random.randint(1, 100)\n",
        "\n",
        "    print(\"Guess the Number!\")\n",
        "    print(\"I'm thinking of a number between 1 and 100.\")\n",
        "\n",
        "    attempts = 0\n",
        "\n",
        "    while True:\n",
        "        try:\n",
        "            user_guess = int(input(\"Take a guess: \"))\n",
        "            attempts += 1\n",
        "\n",
        "            if user_guess < 1 or user_guess > 100:\n",
        "                print(\"Please enter a number between 1 and 100.\")\n",
        "                continue\n",
        "\n",
        "            if user_guess < target_number:\n",
        "                print(\"Too low! Try again.\")\n",
        "            elif user_guess > target_number:\n",
        "                print(\"Too high! Try again.\")\n",
        "            else:\n",
        "                print(f\"Congratulations! You've guessed the number {target_number} in {attempts} attempts!\")\n",
        "                break\n",
        "        except ValueError:\n",
        "            print(\"Invalid input. Please enter a valid number.\")\n",
        "\n",
        "if __name__ == \"__main__\":\n",
        "    guess_the_number()"
      ],
      "metadata": {
        "colab": {
          "base_uri": "https://localhost:8080/"
        },
        "id": "AmgwPwGSC6Go",
        "outputId": "ad946bce-f6ed-48f3-cbe0-8cd4906b6d1e"
      },
      "execution_count": 2,
      "outputs": [
        {
          "output_type": "stream",
          "name": "stdout",
          "text": [
            "Guess the Number!\n",
            "I'm thinking of a number between 1 and 100.\n",
            "Take a guess: 50\n",
            "Too high! Try again.\n",
            "Take a guess: 25\n",
            "Too low! Try again.\n",
            "Take a guess: 40\n",
            "Too low! Try again.\n",
            "Take a guess: 45\n",
            "Too low! Try again.\n",
            "Take a guess: 49\n",
            "Too high! Try again.\n",
            "Take a guess: 47\n",
            "Congratulations! You've guessed the number 47 in 6 attempts!\n"
          ]
        }
      ]
    },
    {
      "cell_type": "markdown",
      "source": [
        "Besides Arrow’s Theorem, another important negative results in the area of social choice theory is the Gibbard–Satterthwaite Theorem. This result relates to the circumstances under which a voter can benefit from misrepresenting their preferences.\n",
        "\n",
        "Recall that a social choice function takes as input a preference order for each voter, and gives as output a set of winning candidates. Each voter has, of course, their own true preferences, but there is nothing in the definition of a social choice function that requires voters to report their preferences truthfully; they can declare whatever preferences they like.\n",
        "\n",
        "In some cases, it can make sense for a voter to misrepresent their preferences. For example, in plurality voting, voters who think their preferred candidate has no chance of winning may vote for their second choice instead. That means plurality voting is a game in which voters have to think strategically (about the other voters) to maximize their expected utility."
      ],
      "metadata": {
        "id": "NIoj8_qTDMRU"
      }
    },
    {
      "cell_type": "code",
      "source": [
        "# Artificial Intelligence - A2\n",
        "# Text Analysis Tool\n",
        "\n",
        "# Name: José Eduardo Matínez Rodríguez\n",
        "# Student ID: 1843263\n",
        "# Class day: tuesday\n",
        "# Hour: N4 - N6\n",
        "\n",
        "\n",
        "import re\n",
        "from collections import Counter\n",
        "\n",
        "def count_words_sentences_paragraphs(text):\n",
        "    # Count words, sentences, and paragraphs\n",
        "    words = text.split()\n",
        "    sentences = re.split(r'[.!?]', text)\n",
        "    paragraphs = text.split('\\n\\n')\n",
        "\n",
        "    return len(words), len(sentences) - 1, len(paragraphs)\n",
        "\n",
        "def calculate_average_word_length(text):\n",
        "    # Calculate the average word length\n",
        "    words = text.split()\n",
        "    total_word_length = sum(len(word) for word in words)\n",
        "    average_word_length = total_word_length / len(words)\n",
        "\n",
        "    return average_word_length\n",
        "\n",
        "def identify_most_common_words(text, num_words=10):\n",
        "    # Identify the most common words and their frequencies\n",
        "    words = re.findall(r'\\w+', text.lower())\n",
        "    word_counts = Counter(words)\n",
        "    most_common_words = word_counts.most_common(num_words)\n",
        "\n",
        "    return most_common_words\n",
        "\n",
        "def main():\n",
        "    file_path = 'ReadMe.md'  # Replace with your file path\n",
        "    with open(file_path, 'r', encoding='utf-8') as file:\n",
        "        text = file.read()\n",
        "\n",
        "    num_words, num_sentences, num_paragraphs = count_words_sentences_paragraphs(text)\n",
        "    average_word_length = calculate_average_word_length(text)\n",
        "    most_common_words = identify_most_common_words(text)\n",
        "\n",
        "    print(f\"Number of words: {num_words}\")\n",
        "    print(f\"Number of sentences: {num_sentences}\")\n",
        "    print(f\"Number of paragraphs: {num_paragraphs}\")\n",
        "    print(f\"Average word length: {average_word_length:.0f} letters\")\n",
        "    print(\"\\nMost common words:\")\n",
        "    for word, frequency in most_common_words:\n",
        "        print(f\"{word}: {frequency}\")\n",
        "\n",
        "if __name__ == \"__main__\":\n",
        "    main()"
      ],
      "metadata": {
        "colab": {
          "base_uri": "https://localhost:8080/"
        },
        "id": "FSR5pdb5D1Vn",
        "outputId": "8b1a902a-07f0-4e6d-8b8e-fa52ba633674"
      },
      "execution_count": 5,
      "outputs": [
        {
          "output_type": "stream",
          "name": "stdout",
          "text": [
            "Number of words: 154\n",
            "Number of sentences: 7\n",
            "Number of paragraphs: 3\n",
            "Average word length: 5 letters\n",
            "\n",
            "Most common words:\n",
            "a: 7\n",
            "their: 7\n",
            "in: 5\n",
            "the: 5\n",
            "of: 5\n",
            "to: 5\n",
            "preferences: 5\n",
            "choice: 4\n",
            "voter: 4\n",
            "for: 4\n"
          ]
        }
      ]
    }
  ]
}